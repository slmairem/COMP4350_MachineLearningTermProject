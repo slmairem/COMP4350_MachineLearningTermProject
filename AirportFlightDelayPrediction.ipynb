{
  "nbformat": 4,
  "nbformat_minor": 0,
  "metadata": {
    "colab": {
      "provenance": []
    },
    "kernelspec": {
      "name": "python3",
      "display_name": "Python 3"
    },
    "language_info": {
      "name": "python"
    }
  },
  "cells": [
    {
      "cell_type": "code",
      "source": [
        "import pandas as pd\n",
        "import os\n",
        "\n",
        "# Extracted Files Folder\n",
        "extract_path = \"/content/drive/MyDrive/extracted\"\n",
        "\n",
        "# Print Extracted Files\n",
        "extracted_files = os.listdir(extract_path)\n",
        "print(\"Extracted files:\")\n",
        "print(extracted_files)\n",
        "\n",
        "if extracted_files:\n",
        "    first_file_path = os.path.join(extract_path, extracted_files[0])\n",
        "    if first_file_path.endswith('.csv'):\n",
        "        use_cols = ['DayofMonth', 'DayOfWeek', 'ArrDelay', 'DepDelay', 'Distance', 'Month']\n",
        "        data = pd.read_csv(first_file_path, usecols=use_cols)\n",
        "\n",
        "        # Ensure 'DepDelay' is numeric, if there are non-numeric values, mark them as NAN\n",
        "        data['DepDelay'] = pd.to_numeric(data['DepDelay'], errors='coerce')\n",
        "        data['ArrDelay'] = pd.to_numeric(data['ArrDelay'], errors='coerce')\n",
        "\n",
        "        # Remove rows where DepDelay is NaN\n",
        "        data_clean = data.dropna(subset=['DepDelay', 'ArrDelay'])\n",
        "\n",
        "        # Equal data from each month\n",
        "        num_samples_per_month = 490 // 7\n",
        "        sampled_data = data_clean.groupby('Month').apply(lambda x: x.sample(num_samples_per_month, random_state=42)).reset_index(drop=True)\n",
        "\n",
        "        # Print Samples\n",
        "        print(\"Divided Data:\")\n",
        "        print(sampled_data.head())\n",
        "\n",
        "    else:\n",
        "        print(f\"Error. {first_file_path}\")\n",
        "else:\n",
        "    print(\"No file found.\")\n"
      ],
      "metadata": {
        "colab": {
          "base_uri": "https://localhost:8080/"
        },
        "id": "nlfrf7sofGRv",
        "outputId": "d9f0901e-0ea9-4dea-f07b-2566f8c04a71"
      },
      "execution_count": 27,
      "outputs": [
        {
          "output_type": "stream",
          "name": "stdout",
          "text": [
            "Extracted files:\n",
            "['Combined_Flights_2022.csv']\n",
            "Divided Data:\n",
            "   DepDelay  Distance  Month  DayofMonth  DayOfWeek  ArrDelay\n",
            "0      -2.0     187.0      1          19          3     -20.0\n",
            "1      -7.0    2475.0      1          24          1     -19.0\n",
            "2      -1.0     427.0      1          29          6     -25.0\n",
            "3      -3.0     762.0      1          24          1      -9.0\n",
            "4      35.0    1635.0      1           7          5      13.0\n"
          ]
        },
        {
          "output_type": "stream",
          "name": "stderr",
          "text": [
            "<ipython-input-27-7562b4440d0c>:27: DeprecationWarning: DataFrameGroupBy.apply operated on the grouping columns. This behavior is deprecated, and in a future version of pandas the grouping columns will be excluded from the operation. Either pass `include_groups=False` to exclude the groupings or explicitly select the grouping columns after groupby to silence this warning.\n",
            "  sampled_data = data_clean.groupby('Month').apply(lambda x: x.sample(num_samples_per_month, random_state=42)).reset_index(drop=True)\n"
          ]
        }
      ]
    },
    {
      "cell_type": "code",
      "source": [
        "import random\n",
        "\n",
        "weather_conditions = {\n",
        "    1: [\"Snowy\", \"Windy\", \"Cloudy\"],\n",
        "    2: [\"Snowy\", \"Windy\", \"Cloudy\"],\n",
        "    3: [\"Windy\", \"Rainy\", \"Cloudy\"],\n",
        "    4: [\"Rainy\", \"Cloudy\", \"Sunny\", \"Windy\"],\n",
        "    5: [\"Mostly Sunny\", \"Windy\", \"Sunny\"],\n",
        "    6: [\"Sunny\", \"Partly Cloudy\"],\n",
        "    7: [\"Sunny\", \"Mostly Sunny\"]\n",
        "}\n",
        "\n",
        "sampled_data['WeatherCondition'] = sampled_data['Month'].apply(\n",
        "    lambda x: random.choice(weather_conditions[x])\n",
        ")\n",
        "\n",
        "print(sampled_data.head())\n",
        "\n",
        "output_file_path = \"/content/drive/MyDrive/sampled_data_with_weatherCond.csv\"\n",
        "\n",
        "sampled_data.to_csv(output_file_path, index=False)\n",
        "\n",
        "print(f\"The data has been saved to {output_file_path}.\")"
      ],
      "metadata": {
        "colab": {
          "base_uri": "https://localhost:8080/"
        },
        "id": "WJjOYNeWo94q",
        "outputId": "dae2fd98-30e1-4668-a0a3-332d997a15cb"
      },
      "execution_count": 35,
      "outputs": [
        {
          "output_type": "stream",
          "name": "stdout",
          "text": [
            "   DepDelay  Distance  Month  DayofMonth  DayOfWeek  ArrDelay WeatherCondition\n",
            "0      -2.0     187.0      1          19          3     -20.0            Windy\n",
            "1      -7.0    2475.0      1          24          1     -19.0            Windy\n",
            "2      -1.0     427.0      1          29          6     -25.0           Cloudy\n",
            "3      -3.0     762.0      1          24          1      -9.0           Cloudy\n",
            "4      35.0    1635.0      1           7          5      13.0           Cloudy\n",
            "The data has been saved to /content/drive/MyDrive/sampled_data_with_weatherCond.csv.\n"
          ]
        }
      ]
    },
    {
      "cell_type": "code",
      "source": [
        "# Separate the features (X) and target (y)\n",
        "X = sampled_data.drop('ArrDelay', axis=1)  # Features\n",
        "y = sampled_data['ArrDelay']  # Target\n",
        "\n",
        "# One-hot encode WeatherCondition\n",
        "X = pd.get_dummies(X, columns=['WeatherCondition'])\n",
        "\n",
        "# Split the data\n",
        "from sklearn.model_selection import train_test_split\n",
        "\n",
        "X_train, X_temp, y_train, y_temp = train_test_split(X, y, test_size=0.4, random_state=42)\n",
        "X_val, X_test, y_val, y_test = train_test_split(X_temp, y_temp, test_size=0.5, random_state=42)\n",
        "\n",
        "# Convert the datasets to DataFrame format\n",
        "X_train_df = pd.DataFrame(X_train, columns=X.columns)\n",
        "X_val_df = pd.DataFrame(X_val, columns=X.columns)\n",
        "X_test_df = pd.DataFrame(X_test, columns=X.columns)\n",
        "\n",
        "# Add the target labels\n",
        "train_set = X_train_df.copy()\n",
        "train_set['ArrDelay'] = y_train.reset_index(drop=True)\n",
        "\n",
        "val_set = X_val_df.copy()\n",
        "val_set['ArrDelay'] = y_val.reset_index(drop=True)\n",
        "\n",
        "test_set = X_test_df.copy()\n",
        "test_set['ArrDelay'] = y_test.reset_index(drop=True)\n",
        "\n",
        "# Display the shapes of the datasets\n",
        "print(f\"Training set shape: {train_set.shape}\")\n",
        "print(f\"Validation set shape: {val_set.shape}\")\n",
        "print(f\"Test set shape: {test_set.shape}\")"
      ],
      "metadata": {
        "colab": {
          "base_uri": "https://localhost:8080/"
        },
        "id": "6dCjQrk2BVMi",
        "outputId": "f2c66dd7-8894-4acb-f323-e2f180bfee80"
      },
      "execution_count": 29,
      "outputs": [
        {
          "output_type": "stream",
          "name": "stdout",
          "text": [
            "Training set shape: (294, 13)\n",
            "Validation set shape: (98, 13)\n",
            "Test set shape: (98, 13)\n"
          ]
        }
      ]
    },
    {
      "cell_type": "code",
      "source": [
        "# Display the first few rows of the datasets\n",
        "print(\"\\nTraining set preview:\")\n",
        "print(X_train.head())\n",
        "\n",
        "print(\"\\nValidation set preview:\")\n",
        "print(X_val.head())\n",
        "\n",
        "print(\"\\nTest set preview:\")\n",
        "print(X_test.head())"
      ],
      "metadata": {
        "colab": {
          "base_uri": "https://localhost:8080/"
        },
        "id": "5Px4QlKsn0_P",
        "outputId": "67856394-27c6-4c81-a31a-4fae43690f27"
      },
      "execution_count": 30,
      "outputs": [
        {
          "output_type": "stream",
          "name": "stdout",
          "text": [
            "\n",
            "Training set preview:\n",
            "     DepDelay  Distance  Month  DayofMonth  DayOfWeek  \\\n",
            "74        0.0    2422.0      2          23          3   \n",
            "399     -11.0     562.0      6          23          4   \n",
            "266      15.0     358.0      4           7          4   \n",
            "238      -1.0     867.0      4          15          5   \n",
            "119      -5.0     325.0      2          16          3   \n",
            "\n",
            "     WeatherCondition_Cloudy  WeatherCondition_Mostly Sunny  \\\n",
            "74                      True                          False   \n",
            "399                    False                          False   \n",
            "266                    False                          False   \n",
            "238                    False                          False   \n",
            "119                    False                          False   \n",
            "\n",
            "     WeatherCondition_Partly Cloudy  WeatherCondition_Rainy  \\\n",
            "74                            False                   False   \n",
            "399                           False                   False   \n",
            "266                           False                    True   \n",
            "238                           False                    True   \n",
            "119                           False                   False   \n",
            "\n",
            "     WeatherCondition_Snowy  WeatherCondition_Sunny  WeatherCondition_Windy  \n",
            "74                    False                   False                   False  \n",
            "399                   False                    True                   False  \n",
            "266                   False                   False                   False  \n",
            "238                   False                   False                   False  \n",
            "119                   False                   False                    True  \n",
            "\n",
            "Validation set preview:\n",
            "     DepDelay  Distance  Month  DayofMonth  DayOfWeek  \\\n",
            "5        -6.0    2454.0      1          22          6   \n",
            "452      -3.0     158.0      7          19          2   \n",
            "436      -4.0     626.0      7           8          5   \n",
            "67       -3.0    2218.0      1          16          7   \n",
            "420       0.0    1476.0      7          21          4   \n",
            "\n",
            "     WeatherCondition_Cloudy  WeatherCondition_Mostly Sunny  \\\n",
            "5                       True                          False   \n",
            "452                    False                           True   \n",
            "436                    False                           True   \n",
            "67                     False                          False   \n",
            "420                    False                           True   \n",
            "\n",
            "     WeatherCondition_Partly Cloudy  WeatherCondition_Rainy  \\\n",
            "5                             False                   False   \n",
            "452                           False                   False   \n",
            "436                           False                   False   \n",
            "67                            False                   False   \n",
            "420                           False                   False   \n",
            "\n",
            "     WeatherCondition_Snowy  WeatherCondition_Sunny  WeatherCondition_Windy  \n",
            "5                     False                   False                   False  \n",
            "452                   False                   False                   False  \n",
            "436                   False                   False                   False  \n",
            "67                     True                   False                   False  \n",
            "420                   False                   False                   False  \n",
            "\n",
            "Test set preview:\n",
            "     DepDelay  Distance  Month  DayofMonth  DayOfWeek  \\\n",
            "210      39.0     588.0      4           4          1   \n",
            "468     -11.0     653.0      7          23          6   \n",
            "430      -4.0     175.0      7          12          2   \n",
            "79        1.0     954.0      2          14          1   \n",
            "301      -9.0     110.0      5          14          6   \n",
            "\n",
            "     WeatherCondition_Cloudy  WeatherCondition_Mostly Sunny  \\\n",
            "210                    False                          False   \n",
            "468                    False                          False   \n",
            "430                    False                           True   \n",
            "79                     False                          False   \n",
            "301                    False                          False   \n",
            "\n",
            "     WeatherCondition_Partly Cloudy  WeatherCondition_Rainy  \\\n",
            "210                           False                   False   \n",
            "468                           False                   False   \n",
            "430                           False                   False   \n",
            "79                            False                   False   \n",
            "301                           False                   False   \n",
            "\n",
            "     WeatherCondition_Snowy  WeatherCondition_Sunny  WeatherCondition_Windy  \n",
            "210                   False                   False                    True  \n",
            "468                   False                    True                   False  \n",
            "430                   False                   False                   False  \n",
            "79                     True                   False                   False  \n",
            "301                   False                   False                    True  \n"
          ]
        }
      ]
    },
    {
      "cell_type": "code",
      "source": [
        "# Linear Regression\n",
        "# Evalution Methods = MSE, R² & MAE\n",
        "\n",
        "from sklearn.linear_model import LinearRegression\n",
        "from sklearn.metrics import mean_squared_error, r2_score, mean_absolute_error\n",
        "\n",
        "model = LinearRegression()\n",
        "\n",
        "model.fit(X_train, y_train)\n",
        "\n",
        "# Prediction to Validation set\n",
        "y_val_pred = model.predict(X_val)\n",
        "\n",
        "# Validation set performance evaluation\n",
        "mse_val = mean_squared_error(y_val, y_val_pred)\n",
        "r2_val = r2_score(y_val, y_val_pred)\n",
        "mae_val = mean_absolute_error(y_val, y_val_pred)\n",
        "print(f\"Validation Set MSE: {mse_val}\")\n",
        "print(f\"Validation Set R²: {r2_val}\")\n",
        "print(f\"Validation Set MAE: {mae_val}\")\n",
        "\n",
        "# Test set performance evaluation\n",
        "y_test_pred = model.predict(X_test)\n",
        "\n",
        "mse_test = mean_squared_error(y_test, y_test_pred)\n",
        "r2_test = r2_score(y_test, y_test_pred)\n",
        "mae_test = mean_absolute_error(y_test, y_test_pred)\n",
        "print(f\"Test Set MSE: {mse_test}\")\n",
        "print(f\"Test Set R²: {r2_test}\")\n",
        "print(f\"Test Set MAE: {mae_test}\")"
      ],
      "metadata": {
        "colab": {
          "base_uri": "https://localhost:8080/"
        },
        "id": "XuYBF6jVIN2G",
        "outputId": "6a328ccc-5cdb-4bb0-a2b8-75c83dfc0c86"
      },
      "execution_count": 31,
      "outputs": [
        {
          "output_type": "stream",
          "name": "stdout",
          "text": [
            "Validation Set MSE: 294.6992767925365\n",
            "Validation Set R²: 0.8789972853161622\n",
            "Validation Set MAE: 11.263831861036904\n",
            "Test Set MSE: 294.5633201810526\n",
            "Test Set R²: 0.8047045296194177\n",
            "Test Set MAE: 10.876927048724466\n"
          ]
        }
      ]
    },
    {
      "cell_type": "code",
      "source": [
        "# Random Forest\n",
        "# Evalution Methods = MSE, R² & MAE\n",
        "\n",
        "from sklearn.ensemble import RandomForestRegressor\n",
        "from sklearn.metrics import mean_squared_error, r2_score, mean_absolute_error\n",
        "\n",
        "# Initialize the Random Forest model\n",
        "rf_reg = RandomForestRegressor(n_estimators=100, random_state=42)\n",
        "\n",
        "# Fit the model on training data\n",
        "rf_reg.fit(X_train, y_train)\n",
        "\n",
        "# Prediction on the validation set\n",
        "y_val_pred = rf_reg.predict(X_val)\n",
        "\n",
        "# Validation set performance evaluation\n",
        "mse_val = mean_squared_error(y_val, y_val_pred)\n",
        "r2_val = r2_score(y_val, y_val_pred)\n",
        "mae_val = mean_absolute_error(y_val, y_val_pred)\n",
        "print(f\"Validation Set MSE: {mse_val}\")\n",
        "print(f\"Validation Set R²: {r2_val}\")\n",
        "print(f\"Validation Set MAE: {mae_val}\")\n",
        "\n",
        "# Test set performance evaluation\n",
        "y_test_pred = rf_reg.predict(X_test)\n",
        "\n",
        "mse_test = mean_squared_error(y_test, y_test_pred)\n",
        "r2_test = r2_score(y_test, y_test_pred)\n",
        "mae_test = mean_absolute_error(y_test, y_test_pred)\n",
        "print(f\"Test Set MSE: {mse_test}\")\n",
        "print(f\"Test Set R²: {r2_test}\")\n",
        "print(f\"Test Set MAE: {mae_test}\")\n"
      ],
      "metadata": {
        "colab": {
          "base_uri": "https://localhost:8080/"
        },
        "id": "9VXY7hFdK0nD",
        "outputId": "3806cf6f-7518-4a43-e2bd-1515b01d157f"
      },
      "execution_count": 32,
      "outputs": [
        {
          "output_type": "stream",
          "name": "stdout",
          "text": [
            "Validation Set MSE: 326.81277346938776\n",
            "Validation Set R²: 0.865811571668738\n",
            "Validation Set MAE: 11.916530612244898\n",
            "Test Set MSE: 354.7895071428571\n",
            "Test Set R²: 0.7647745698922357\n",
            "Test Set MAE: 12.279285714285715\n"
          ]
        }
      ]
    }
  ]
}